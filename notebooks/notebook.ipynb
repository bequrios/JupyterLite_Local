{
 "cells": [
  {
   "cell_type": "markdown",
   "id": "3cb1c866",
   "metadata": {},
   "source": [
    "# JupyterLite Workflow\n",
    "\n",
    "In diesem Repository geht es darum, einen Workflow für JupyterLite zu testen, der es erlaubt, lokal zu entwickeln mit VSCode resp. JupyterLab und anschliessend die Notebooks via JupyterLite im Browser auszuführen.\n",
    "\n",
    "In einem zweiten Schritt soll der Build-Prozess via GitHub Actions automatisiert werden und die Notebooks anschliessend auf GitHub Pages gehostet werden."
   ]
  },
  {
   "cell_type": "markdown",
   "id": "8c5150a0",
   "metadata": {},
   "source": [
    "## Standard Python"
   ]
  },
  {
   "cell_type": "code",
   "execution_count": null,
   "id": "fcfee5ee",
   "metadata": {},
   "outputs": [],
   "source": [
    "print(\"Hallo World\")"
   ]
  },
  {
   "cell_type": "markdown",
   "id": "f4b72891",
   "metadata": {},
   "source": [
    "## Pandas"
   ]
  },
  {
   "cell_type": "code",
   "execution_count": null,
   "id": "a1270544",
   "metadata": {},
   "outputs": [],
   "source": [
    "import pandas as pd\n",
    "\n",
    "df = pd.DataFrame({\n",
    "    'A': [1, 2, 3],\n",
    "    'B': [4, 5, 6]\n",
    "})\n",
    "\n",
    "display(df)"
   ]
  },
  {
   "cell_type": "markdown",
   "id": "4b4133fc",
   "metadata": {},
   "source": [
    "## Requests"
   ]
  },
  {
   "cell_type": "code",
   "execution_count": null,
   "id": "4e967c8e",
   "metadata": {},
   "outputs": [],
   "source": [
    "import requests\n",
    "\n",
    "response = requests.get('https://api.github.com')\n",
    "print(response.status_code)"
   ]
  }
 ],
 "metadata": {
  "kernelspec": {
   "display_name": ".venv",
   "language": "python",
   "name": "python3"
  },
  "language_info": {
   "codemirror_mode": {
    "name": "ipython",
    "version": 3
   },
   "file_extension": ".py",
   "mimetype": "text/x-python",
   "name": "python",
   "nbconvert_exporter": "python",
   "pygments_lexer": "ipython3",
   "version": "3.11.11"
  }
 },
 "nbformat": 4,
 "nbformat_minor": 5
}
