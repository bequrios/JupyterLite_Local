{
 "cells": [
  {
   "cell_type": "markdown",
   "id": "3cb1c866",
   "metadata": {},
   "source": [
    "# JupyterLite Workflow\n",
    "\n",
    "In diesem Repository geht es darum, einen Workflow für JupyterLite zu testen, der es erlaubt, lokal zu entwickeln mit VSCode resp. JupyterLab und anschliessend die Notebooks via JupyterLite im Browser auszuführen.\n",
    "\n",
    "In einem zweiten Schritt soll der Build-Prozess via GitHub Actions automatisiert werden und die Notebooks anschliessend auf GitHub Pages gehostet werden."
   ]
  },
  {
   "cell_type": "markdown",
   "id": "8c5150a0",
   "metadata": {},
   "source": [
    "## Standard Python"
   ]
  },
  {
   "cell_type": "code",
   "execution_count": 1,
   "id": "fcfee5ee",
   "metadata": {},
   "outputs": [
    {
     "name": "stdout",
     "output_type": "stream",
     "text": [
      "Hallo World\n"
     ]
    }
   ],
   "source": [
    "print(\"Hallo World\")"
   ]
  },
  {
   "cell_type": "markdown",
   "id": "46435811",
   "metadata": {},
   "source": [
    "## Importing Modules"
   ]
  },
  {
   "cell_type": "code",
   "execution_count": 2,
   "id": "bb8ab05f",
   "metadata": {},
   "outputs": [
    {
     "name": "stdout",
     "output_type": "stream",
     "text": [
      "Requirement already satisfied: rdflib in /Users/hib1/Nextcloud BFH/Linked Data/JupyterLite_Local/.venv/lib/python3.11/site-packages (7.3.0)\n",
      "Requirement already satisfied: pyparsing<4,>=2.1.0 in /Users/hib1/Nextcloud BFH/Linked Data/JupyterLite_Local/.venv/lib/python3.11/site-packages (from rdflib) (3.2.5)\n",
      "\n",
      "\u001b[1m[\u001b[0m\u001b[34;49mnotice\u001b[0m\u001b[1;39;49m]\u001b[0m\u001b[39;49m A new release of pip is available: \u001b[0m\u001b[31;49m24.0\u001b[0m\u001b[39;49m -> \u001b[0m\u001b[32;49m25.3\u001b[0m\n",
      "\u001b[1m[\u001b[0m\u001b[34;49mnotice\u001b[0m\u001b[1;39;49m]\u001b[0m\u001b[39;49m To update, run: \u001b[0m\u001b[32;49mpip install --upgrade pip\u001b[0m\n",
      "Note: you may need to restart the kernel to use updated packages.\n"
     ]
    }
   ],
   "source": [
    "%pip install rdflib\n",
    "\n",
    "import requests\n",
    "import pandas as pd\n",
    "from rdflib import Graph, Namespace, URIRef, Literal, RDF\n",
    "from IPython.display import HTML, display\n",
    "from ext.rdf import query_endpoint, query_ttl, display_result"
   ]
  },
  {
   "cell_type": "markdown",
   "id": "f4b72891",
   "metadata": {},
   "source": [
    "## Pandas"
   ]
  },
  {
   "cell_type": "code",
   "execution_count": 3,
   "id": "a1270544",
   "metadata": {},
   "outputs": [
    {
     "data": {
      "text/html": [
       "<div>\n",
       "<style scoped>\n",
       "    .dataframe tbody tr th:only-of-type {\n",
       "        vertical-align: middle;\n",
       "    }\n",
       "\n",
       "    .dataframe tbody tr th {\n",
       "        vertical-align: top;\n",
       "    }\n",
       "\n",
       "    .dataframe thead th {\n",
       "        text-align: right;\n",
       "    }\n",
       "</style>\n",
       "<table border=\"1\" class=\"dataframe\">\n",
       "  <thead>\n",
       "    <tr style=\"text-align: right;\">\n",
       "      <th></th>\n",
       "      <th>A</th>\n",
       "      <th>B</th>\n",
       "    </tr>\n",
       "  </thead>\n",
       "  <tbody>\n",
       "    <tr>\n",
       "      <th>0</th>\n",
       "      <td>1</td>\n",
       "      <td>4</td>\n",
       "    </tr>\n",
       "    <tr>\n",
       "      <th>1</th>\n",
       "      <td>2</td>\n",
       "      <td>5</td>\n",
       "    </tr>\n",
       "    <tr>\n",
       "      <th>2</th>\n",
       "      <td>3</td>\n",
       "      <td>6</td>\n",
       "    </tr>\n",
       "  </tbody>\n",
       "</table>\n",
       "</div>"
      ],
      "text/plain": [
       "   A  B\n",
       "0  1  4\n",
       "1  2  5\n",
       "2  3  6"
      ]
     },
     "metadata": {},
     "output_type": "display_data"
    }
   ],
   "source": [
    "df = pd.DataFrame({\n",
    "    'A': [1, 2, 3],\n",
    "    'B': [4, 5, 6]\n",
    "})\n",
    "\n",
    "display(df)"
   ]
  },
  {
   "cell_type": "markdown",
   "id": "4b4133fc",
   "metadata": {},
   "source": [
    "## Requests"
   ]
  },
  {
   "cell_type": "code",
   "execution_count": 4,
   "id": "4e967c8e",
   "metadata": {},
   "outputs": [
    {
     "name": "stdout",
     "output_type": "stream",
     "text": [
      "200\n"
     ]
    }
   ],
   "source": [
    "response = requests.get('https://api.github.com')\n",
    "print(response.status_code)"
   ]
  },
  {
   "cell_type": "markdown",
   "id": "5f204475",
   "metadata": {},
   "source": [
    "## rdflib"
   ]
  },
  {
   "cell_type": "code",
   "execution_count": 5,
   "id": "386b005d",
   "metadata": {},
   "outputs": [
    {
     "name": "stdout",
     "output_type": "stream",
     "text": [
      "Graph in Turtle syntax:\n",
      "@prefix ns1: <http://example.org/> .\n",
      "@prefix xsd: <http://www.w3.org/2001/XMLSchema#> .\n",
      "\n",
      "ns1:Bob a ns1:Person ;\n",
      "    ns1:knows ns1:Alice .\n",
      "\n",
      "ns1:Alice a ns1:Person ;\n",
      "    ns1:age 30 ;\n",
      "    ns1:name \"Alice\" .\n",
      "\n",
      "\n",
      "\n",
      "SPARQL query results:\n",
      "http://example.org/Alice — Alice\n"
     ]
    }
   ],
   "source": [
    "# 1. Create a new RDF graph\n",
    "g = Graph()\n",
    "\n",
    "# 2. Define a namespace (like a prefix in Turtle)\n",
    "EX = Namespace(\"http://example.org/\")\n",
    "\n",
    "# 3. Add some triples (subject, predicate, object)\n",
    "g.add((EX.Alice, RDF.type, EX.Person))\n",
    "g.add((EX.Alice, EX.name, Literal(\"Alice\")))\n",
    "g.add((EX.Alice, EX.age, Literal(30)))\n",
    "g.add((EX.Bob, RDF.type, EX.Person))\n",
    "g.add((EX.Bob, EX.knows, EX.Alice))\n",
    "\n",
    "# 4. Serialize the graph in Turtle format\n",
    "print(\"Graph in Turtle syntax:\")\n",
    "print(g.serialize(format=\"turtle\"))\n",
    "\n",
    "# 5. Run a SPARQL query\n",
    "q = \"\"\"\n",
    "PREFIX ex: <http://example.org/>\n",
    "SELECT ?person ?name\n",
    "WHERE {\n",
    "  ?person a ex:Person ;\n",
    "          ex:name ?name .\n",
    "}\n",
    "\"\"\"\n",
    "\n",
    "print(\"\\nSPARQL query results:\")\n",
    "for row in g.query(q):\n",
    "    print(f\"{row.person} — {row.name}\")"
   ]
  },
  {
   "cell_type": "markdown",
   "id": "43f5e911",
   "metadata": {},
   "source": [
    "## Local Modules\n",
    "\n",
    "Achtung: Wenn lokale Module eigene Dependencies haben, müssen diese zuerst in einer Zelle im Jupyter Lite Notebook installiert resp. importiert werden - auch wenn diese im lokalen Modul bereits importiert werden."
   ]
  },
  {
   "cell_type": "code",
   "execution_count": 6,
   "id": "93b31682",
   "metadata": {},
   "outputs": [
    {
     "data": {
      "text/html": [
       "<table border=\"1\" class=\"dataframe\">\n",
       "  <thead>\n",
       "    <tr style=\"text-align: right;\">\n",
       "      <th></th>\n",
       "      <th>s</th>\n",
       "      <th>p</th>\n",
       "      <th>o</th>\n",
       "    </tr>\n",
       "  </thead>\n",
       "  <tbody>\n",
       "    <tr>\n",
       "      <th>0</th>\n",
       "      <td><a href=\"http://www.w3.org/1999/02/22-rdf-syntax-ns#type\" target=\"_blank\">http://www.w3.org/1999/02/22-rdf-syntax-ns#type</a></td>\n",
       "      <td><a href=\"http://www.w3.org/2000/01/rdf-schema#isDefinedBy\" target=\"_blank\">http://www.w3.org/2000/01/rdf-schema#isDefinedBy</a></td>\n",
       "      <td><a href=\"http://www.w3.org/1999/02/22-rdf-syntax-ns#\" target=\"_blank\">http://www.w3.org/1999/02/22-rdf-syntax-ns#</a></td>\n",
       "    </tr>\n",
       "    <tr>\n",
       "      <th>1</th>\n",
       "      <td><a href=\"http://www.w3.org/1999/02/22-rdf-syntax-ns#Property\" target=\"_blank\">http://www.w3.org/1999/02/22-rdf-syntax-ns#Property</a></td>\n",
       "      <td><a href=\"http://www.w3.org/2000/01/rdf-schema#isDefinedBy\" target=\"_blank\">http://www.w3.org/2000/01/rdf-schema#isDefinedBy</a></td>\n",
       "      <td><a href=\"http://www.w3.org/1999/02/22-rdf-syntax-ns#\" target=\"_blank\">http://www.w3.org/1999/02/22-rdf-syntax-ns#</a></td>\n",
       "    </tr>\n",
       "    <tr>\n",
       "      <th>2</th>\n",
       "      <td><a href=\"http://www.w3.org/1999/02/22-rdf-syntax-ns#first\" target=\"_blank\">http://www.w3.org/1999/02/22-rdf-syntax-ns#first</a></td>\n",
       "      <td><a href=\"http://www.w3.org/2000/01/rdf-schema#isDefinedBy\" target=\"_blank\">http://www.w3.org/2000/01/rdf-schema#isDefinedBy</a></td>\n",
       "      <td><a href=\"http://www.w3.org/1999/02/22-rdf-syntax-ns#\" target=\"_blank\">http://www.w3.org/1999/02/22-rdf-syntax-ns#</a></td>\n",
       "    </tr>\n",
       "    <tr>\n",
       "      <th>3</th>\n",
       "      <td><a href=\"http://www.w3.org/1999/02/22-rdf-syntax-ns#rest\" target=\"_blank\">http://www.w3.org/1999/02/22-rdf-syntax-ns#rest</a></td>\n",
       "      <td><a href=\"http://www.w3.org/2000/01/rdf-schema#isDefinedBy\" target=\"_blank\">http://www.w3.org/2000/01/rdf-schema#isDefinedBy</a></td>\n",
       "      <td><a href=\"http://www.w3.org/1999/02/22-rdf-syntax-ns#\" target=\"_blank\">http://www.w3.org/1999/02/22-rdf-syntax-ns#</a></td>\n",
       "    </tr>\n",
       "    <tr>\n",
       "      <th>4</th>\n",
       "      <td><a href=\"http://www.w3.org/1999/02/22-rdf-syntax-ns#nil\" target=\"_blank\">http://www.w3.org/1999/02/22-rdf-syntax-ns#nil</a></td>\n",
       "      <td><a href=\"http://www.w3.org/2000/01/rdf-schema#isDefinedBy\" target=\"_blank\">http://www.w3.org/2000/01/rdf-schema#isDefinedBy</a></td>\n",
       "      <td><a href=\"http://www.w3.org/1999/02/22-rdf-syntax-ns#\" target=\"_blank\">http://www.w3.org/1999/02/22-rdf-syntax-ns#</a></td>\n",
       "    </tr>\n",
       "    <tr>\n",
       "      <th>5</th>\n",
       "      <td><a href=\"http://www.w3.org/1999/02/22-rdf-syntax-ns#List\" target=\"_blank\">http://www.w3.org/1999/02/22-rdf-syntax-ns#List</a></td>\n",
       "      <td><a href=\"http://www.w3.org/2000/01/rdf-schema#isDefinedBy\" target=\"_blank\">http://www.w3.org/2000/01/rdf-schema#isDefinedBy</a></td>\n",
       "      <td><a href=\"http://www.w3.org/1999/02/22-rdf-syntax-ns#\" target=\"_blank\">http://www.w3.org/1999/02/22-rdf-syntax-ns#</a></td>\n",
       "    </tr>\n",
       "    <tr>\n",
       "      <th>6</th>\n",
       "      <td><a href=\"http://www.w3.org/1999/02/22-rdf-syntax-ns#HTML\" target=\"_blank\">http://www.w3.org/1999/02/22-rdf-syntax-ns#HTML</a></td>\n",
       "      <td><a href=\"http://www.w3.org/2000/01/rdf-schema#isDefinedBy\" target=\"_blank\">http://www.w3.org/2000/01/rdf-schema#isDefinedBy</a></td>\n",
       "      <td><a href=\"http://www.w3.org/1999/02/22-rdf-syntax-ns#\" target=\"_blank\">http://www.w3.org/1999/02/22-rdf-syntax-ns#</a></td>\n",
       "    </tr>\n",
       "    <tr>\n",
       "      <th>7</th>\n",
       "      <td><a href=\"http://www.w3.org/1999/02/22-rdf-syntax-ns#langString\" target=\"_blank\">http://www.w3.org/1999/02/22-rdf-syntax-ns#langString</a></td>\n",
       "      <td><a href=\"http://www.w3.org/2000/01/rdf-schema#isDefinedBy\" target=\"_blank\">http://www.w3.org/2000/01/rdf-schema#isDefinedBy</a></td>\n",
       "      <td><a href=\"http://www.w3.org/1999/02/22-rdf-syntax-ns#\" target=\"_blank\">http://www.w3.org/1999/02/22-rdf-syntax-ns#</a></td>\n",
       "    </tr>\n",
       "    <tr>\n",
       "      <th>8</th>\n",
       "      <td><a href=\"http://www.w3.org/1999/02/22-rdf-syntax-ns#PlainLiteral\" target=\"_blank\">http://www.w3.org/1999/02/22-rdf-syntax-ns#PlainLiteral</a></td>\n",
       "      <td><a href=\"http://www.w3.org/2000/01/rdf-schema#isDefinedBy\" target=\"_blank\">http://www.w3.org/2000/01/rdf-schema#isDefinedBy</a></td>\n",
       "      <td><a href=\"http://www.w3.org/1999/02/22-rdf-syntax-ns#\" target=\"_blank\">http://www.w3.org/1999/02/22-rdf-syntax-ns#</a></td>\n",
       "    </tr>\n",
       "    <tr>\n",
       "      <th>9</th>\n",
       "      <td><a href=\"http://www.w3.org/1999/02/22-rdf-syntax-ns#Statement\" target=\"_blank\">http://www.w3.org/1999/02/22-rdf-syntax-ns#Statement</a></td>\n",
       "      <td><a href=\"http://www.w3.org/2000/01/rdf-schema#isDefinedBy\" target=\"_blank\">http://www.w3.org/2000/01/rdf-schema#isDefinedBy</a></td>\n",
       "      <td><a href=\"http://www.w3.org/1999/02/22-rdf-syntax-ns#\" target=\"_blank\">http://www.w3.org/1999/02/22-rdf-syntax-ns#</a></td>\n",
       "    </tr>\n",
       "  </tbody>\n",
       "</table>"
      ],
      "text/plain": [
       "<IPython.core.display.HTML object>"
      ]
     },
     "metadata": {},
     "output_type": "display_data"
    }
   ],
   "source": [
    "query = \"\"\"\n",
    "\n",
    "SELECT * WHERE {\n",
    "  ?s ?p ?o .\n",
    "} LIMIT 10\n",
    "\n",
    "\"\"\"\n",
    "\n",
    "df = query_endpoint(\"https://ld.admin.ch/query\", query)\n",
    "\n",
    "display_result(df)"
   ]
  },
  {
   "cell_type": "code",
   "execution_count": 7,
   "id": "6925a074",
   "metadata": {},
   "outputs": [
    {
     "data": {
      "text/html": [
       "<table border=\"1\" class=\"dataframe\">\n",
       "  <thead>\n",
       "    <tr style=\"text-align: right;\">\n",
       "      <th></th>\n",
       "      <th>person</th>\n",
       "      <th>name</th>\n",
       "    </tr>\n",
       "  </thead>\n",
       "  <tbody>\n",
       "    <tr>\n",
       "      <th>0</th>\n",
       "      <td><a href=\"http://example.org/Alice\" target=\"_blank\">http://example.org/Alice</a></td>\n",
       "      <td>Alice</td>\n",
       "    </tr>\n",
       "  </tbody>\n",
       "</table>"
      ],
      "text/plain": [
       "<IPython.core.display.HTML object>"
      ]
     },
     "metadata": {},
     "output_type": "display_data"
    }
   ],
   "source": [
    "ttl = \"\"\"\n",
    "\n",
    "@prefix ex: <http://example.org/> .\n",
    "ex:Alice a ex:Person ;\n",
    "         ex:name \"Alice\" ;\n",
    "         ex:age 30 .\n",
    "ex:Bob a ex:Person ;\n",
    "        ex:knows ex:Alice .\n",
    "\n",
    "\"\"\"\n",
    "\n",
    "query = \"\"\"\n",
    "PREFIX ex: <http://example.org/>\n",
    "SELECT ?person ?name\n",
    "WHERE {\n",
    "  ?person a ex:Person ;\n",
    "          ex:name ?name .\n",
    "}\n",
    "\"\"\"\n",
    "\n",
    "df = query_ttl(ttl, query)\n",
    "\n",
    "display_result(df)"
   ]
  },
  {
   "cell_type": "markdown",
   "id": "03295b43",
   "metadata": {},
   "source": [
    "## Municipalities"
   ]
  },
  {
   "cell_type": "code",
   "execution_count": 8,
   "id": "bfd3c5b5",
   "metadata": {},
   "outputs": [
    {
     "data": {
      "text/html": [
       "<table border=\"1\" class=\"dataframe\">\n",
       "  <thead>\n",
       "    <tr style=\"text-align: right;\">\n",
       "      <th></th>\n",
       "      <th>canton</th>\n",
       "      <th>cantonName</th>\n",
       "      <th>numberOfMunies</th>\n",
       "    </tr>\n",
       "  </thead>\n",
       "  <tbody>\n",
       "    <tr>\n",
       "      <th>0</th>\n",
       "      <td><a href=\"https://ld.admin.ch/canton/2\" target=\"_blank\">https://ld.admin.ch/canton/2</a></td>\n",
       "      <td>Bern / Berne</td>\n",
       "      <td>335</td>\n",
       "    </tr>\n",
       "    <tr>\n",
       "      <th>1</th>\n",
       "      <td><a href=\"https://ld.admin.ch/canton/22\" target=\"_blank\">https://ld.admin.ch/canton/22</a></td>\n",
       "      <td>Vaud</td>\n",
       "      <td>300</td>\n",
       "    </tr>\n",
       "    <tr>\n",
       "      <th>2</th>\n",
       "      <td><a href=\"https://ld.admin.ch/canton/19\" target=\"_blank\">https://ld.admin.ch/canton/19</a></td>\n",
       "      <td>Aargau</td>\n",
       "      <td>197</td>\n",
       "    </tr>\n",
       "    <tr>\n",
       "      <th>3</th>\n",
       "      <td><a href=\"https://ld.admin.ch/canton/1\" target=\"_blank\">https://ld.admin.ch/canton/1</a></td>\n",
       "      <td>Zürich</td>\n",
       "      <td>160</td>\n",
       "    </tr>\n",
       "    <tr>\n",
       "      <th>4</th>\n",
       "      <td><a href=\"https://ld.admin.ch/canton/23\" target=\"_blank\">https://ld.admin.ch/canton/23</a></td>\n",
       "      <td>Valais / Wallis</td>\n",
       "      <td>122</td>\n",
       "    </tr>\n",
       "    <tr>\n",
       "      <th>5</th>\n",
       "      <td><a href=\"https://ld.admin.ch/canton/10\" target=\"_blank\">https://ld.admin.ch/canton/10</a></td>\n",
       "      <td>Fribourg / Freiburg</td>\n",
       "      <td>121</td>\n",
       "    </tr>\n",
       "    <tr>\n",
       "      <th>6</th>\n",
       "      <td><a href=\"https://ld.admin.ch/canton/11\" target=\"_blank\">https://ld.admin.ch/canton/11</a></td>\n",
       "      <td>Solothurn</td>\n",
       "      <td>106</td>\n",
       "    </tr>\n",
       "    <tr>\n",
       "      <th>7</th>\n",
       "      <td><a href=\"https://ld.admin.ch/canton/18\" target=\"_blank\">https://ld.admin.ch/canton/18</a></td>\n",
       "      <td>Graubünden / Grigioni / Grischun</td>\n",
       "      <td>100</td>\n",
       "    </tr>\n",
       "    <tr>\n",
       "      <th>8</th>\n",
       "      <td><a href=\"https://ld.admin.ch/canton/21\" target=\"_blank\">https://ld.admin.ch/canton/21</a></td>\n",
       "      <td>Ticino</td>\n",
       "      <td>100</td>\n",
       "    </tr>\n",
       "    <tr>\n",
       "      <th>9</th>\n",
       "      <td><a href=\"https://ld.admin.ch/canton/13\" target=\"_blank\">https://ld.admin.ch/canton/13</a></td>\n",
       "      <td>Basel-Landschaft</td>\n",
       "      <td>86</td>\n",
       "    </tr>\n",
       "    <tr>\n",
       "      <th>10</th>\n",
       "      <td><a href=\"https://ld.admin.ch/canton/20\" target=\"_blank\">https://ld.admin.ch/canton/20</a></td>\n",
       "      <td>Thurgau</td>\n",
       "      <td>80</td>\n",
       "    </tr>\n",
       "    <tr>\n",
       "      <th>11</th>\n",
       "      <td><a href=\"https://ld.admin.ch/canton/3\" target=\"_blank\">https://ld.admin.ch/canton/3</a></td>\n",
       "      <td>Luzern</td>\n",
       "      <td>79</td>\n",
       "    </tr>\n",
       "    <tr>\n",
       "      <th>12</th>\n",
       "      <td><a href=\"https://ld.admin.ch/canton/17\" target=\"_blank\">https://ld.admin.ch/canton/17</a></td>\n",
       "      <td>St. Gallen</td>\n",
       "      <td>75</td>\n",
       "    </tr>\n",
       "    <tr>\n",
       "      <th>13</th>\n",
       "      <td><a href=\"https://ld.admin.ch/canton/26\" target=\"_blank\">https://ld.admin.ch/canton/26</a></td>\n",
       "      <td>Jura</td>\n",
       "      <td>50</td>\n",
       "    </tr>\n",
       "    <tr>\n",
       "      <th>14</th>\n",
       "      <td><a href=\"https://ld.admin.ch/canton/25\" target=\"_blank\">https://ld.admin.ch/canton/25</a></td>\n",
       "      <td>Genève</td>\n",
       "      <td>45</td>\n",
       "    </tr>\n",
       "    <tr>\n",
       "      <th>15</th>\n",
       "      <td><a href=\"https://ld.admin.ch/canton/5\" target=\"_blank\">https://ld.admin.ch/canton/5</a></td>\n",
       "      <td>Schwyz</td>\n",
       "      <td>30</td>\n",
       "    </tr>\n",
       "    <tr>\n",
       "      <th>16</th>\n",
       "      <td><a href=\"https://ld.admin.ch/canton/14\" target=\"_blank\">https://ld.admin.ch/canton/14</a></td>\n",
       "      <td>Schaffhausen</td>\n",
       "      <td>26</td>\n",
       "    </tr>\n",
       "    <tr>\n",
       "      <th>17</th>\n",
       "      <td><a href=\"https://ld.admin.ch/canton/24\" target=\"_blank\">https://ld.admin.ch/canton/24</a></td>\n",
       "      <td>Neuchâtel</td>\n",
       "      <td>24</td>\n",
       "    </tr>\n",
       "    <tr>\n",
       "      <th>18</th>\n",
       "      <td><a href=\"https://ld.admin.ch/canton/15\" target=\"_blank\">https://ld.admin.ch/canton/15</a></td>\n",
       "      <td>Appenzell Ausserrhoden</td>\n",
       "      <td>20</td>\n",
       "    </tr>\n",
       "    <tr>\n",
       "      <th>19</th>\n",
       "      <td><a href=\"https://ld.admin.ch/canton/4\" target=\"_blank\">https://ld.admin.ch/canton/4</a></td>\n",
       "      <td>Uri</td>\n",
       "      <td>19</td>\n",
       "    </tr>\n",
       "    <tr>\n",
       "      <th>20</th>\n",
       "      <td><a href=\"https://ld.admin.ch/canton/7\" target=\"_blank\">https://ld.admin.ch/canton/7</a></td>\n",
       "      <td>Nidwalden</td>\n",
       "      <td>11</td>\n",
       "    </tr>\n",
       "    <tr>\n",
       "      <th>21</th>\n",
       "      <td><a href=\"https://ld.admin.ch/canton/9\" target=\"_blank\">https://ld.admin.ch/canton/9</a></td>\n",
       "      <td>Zug</td>\n",
       "      <td>11</td>\n",
       "    </tr>\n",
       "    <tr>\n",
       "      <th>22</th>\n",
       "      <td><a href=\"https://ld.admin.ch/canton/6\" target=\"_blank\">https://ld.admin.ch/canton/6</a></td>\n",
       "      <td>Obwalden</td>\n",
       "      <td>7</td>\n",
       "    </tr>\n",
       "    <tr>\n",
       "      <th>23</th>\n",
       "      <td><a href=\"https://ld.admin.ch/canton/16\" target=\"_blank\">https://ld.admin.ch/canton/16</a></td>\n",
       "      <td>Appenzell Innerrhoden</td>\n",
       "      <td>5</td>\n",
       "    </tr>\n",
       "    <tr>\n",
       "      <th>24</th>\n",
       "      <td><a href=\"https://ld.admin.ch/canton/12\" target=\"_blank\">https://ld.admin.ch/canton/12</a></td>\n",
       "      <td>Basel-Stadt</td>\n",
       "      <td>3</td>\n",
       "    </tr>\n",
       "    <tr>\n",
       "      <th>25</th>\n",
       "      <td><a href=\"https://ld.admin.ch/canton/8\" target=\"_blank\">https://ld.admin.ch/canton/8</a></td>\n",
       "      <td>Glarus</td>\n",
       "      <td>3</td>\n",
       "    </tr>\n",
       "  </tbody>\n",
       "</table>"
      ],
      "text/plain": [
       "<IPython.core.display.HTML object>"
      ]
     },
     "metadata": {},
     "output_type": "display_data"
    }
   ],
   "source": [
    "query = \"\"\"\n",
    "\n",
    "PREFIX vl: <https://version.link/>\n",
    "PREFIX admin: <https://schema.ld.admin.ch/>\n",
    "PREFIX schema: <http://schema.org/>\n",
    "\n",
    "SELECT ?canton ?cantonName ?numberOfMunies\n",
    "FROM <https://lindas.admin.ch/fso/register>\n",
    "WHERE {\n",
    "    \n",
    "    ?canton schema:legalName ?cantonName.\n",
    "\n",
    "    {\n",
    "        SELECT ?canton (COUNT(?muni) AS ?numberOfMunies)\n",
    "        WHERE {\n",
    "\n",
    "            ?muni a admin:PoliticalMunicipality;\n",
    "                a vl:Identity;\n",
    "                schema:isPartOf/schema:isPartOf ?canton.\n",
    "\n",
    "            MINUS {?muni a vl:Deprecated}\n",
    "\n",
    "        } GROUP BY ?canton\n",
    "    \n",
    "    }\n",
    "} ORDER BY DESC(?numberOfMunies)\n",
    "\n",
    "\"\"\"\n",
    "\n",
    "df = query_endpoint(\"https://lindas.int.cz-aws.net/query\", query)\n",
    "\n",
    "display_result(df)"
   ]
  },
  {
   "cell_type": "code",
   "execution_count": 9,
   "id": "3fa3aa3f",
   "metadata": {},
   "outputs": [
    {
     "data": {
      "image/png": "[encoded data removed]",
      "text/plain": [
       "<Figure size 640x480 with 1 Axes>"
      ]
     },
     "metadata": {},
     "output_type": "display_data"
    }
   ],
   "source": [
    "from matplotlib import pyplot as plt\n",
    "\n",
    "plt.barh(df[\"cantonName\"], df[\"numberOfMunies\"])\n",
    "plt.suptitle(\"Anzahl Gemeinden pro Kanton\")\n",
    "plt.xlabel(\"Anzahl Gemeinden\")\n",
    "plt.grid(color = \"grey\", linestyle = \"--\", linewidth=1)\n",
    "plt.show()"
   ]
  }
 ],
 "metadata": {
  "kernelspec": {
   "display_name": ".venv",
   "language": "python",
   "name": "python3"
  },
  "language_info": {
   "codemirror_mode": {
    "name": "ipython",
    "version": 3
   },
   "file_extension": ".py",
   "mimetype": "text/x-python",
   "name": "python",
   "nbconvert_exporter": "python",
   "pygments_lexer": "ipython3",
   "version": "3.11.11"
  }
 },
 "nbformat": 4,
 "nbformat_minor": 5
}
